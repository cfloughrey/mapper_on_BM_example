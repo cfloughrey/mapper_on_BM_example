{
 "cells": [
  {
   "cell_type": "code",
   "execution_count": 1,
   "metadata": {},
   "outputs": [],
   "source": [
    "import numpy as np\n",
    "import pandas as  pd\n",
    "import matplotlib.pyplot as plt\n",
    "\n",
    "from sklearn import decomposition\n",
    "from sklearn import datasets"
   ]
  },
  {
   "cell_type": "code",
   "execution_count": 5,
   "metadata": {},
   "outputs": [
    {
     "data": {
      "text/plain": [
       "['C:\\\\Users\\\\ciara\\\\OneDrive\\\\Documents\\\\GitHub\\\\mapper_on_BM_example',\n",
       " 'C:\\\\Users\\\\ciara\\\\anaconda3\\\\envs\\\\ball\\\\python37.zip',\n",
       " 'C:\\\\Users\\\\ciara\\\\anaconda3\\\\envs\\\\ball\\\\DLLs',\n",
       " 'C:\\\\Users\\\\ciara\\\\anaconda3\\\\envs\\\\ball\\\\lib',\n",
       " 'C:\\\\Users\\\\ciara\\\\anaconda3\\\\envs\\\\ball',\n",
       " '',\n",
       " 'C:\\\\Users\\\\ciara\\\\AppData\\\\Roaming\\\\Python\\\\Python37\\\\site-packages',\n",
       " 'C:\\\\Users\\\\ciara\\\\anaconda3\\\\envs\\\\ball\\\\lib\\\\site-packages',\n",
       " 'C:\\\\Users\\\\ciara\\\\anaconda3\\\\envs\\\\ball\\\\lib\\\\site-packages\\\\win32',\n",
       " 'C:\\\\Users\\\\ciara\\\\anaconda3\\\\envs\\\\ball\\\\lib\\\\site-packages\\\\win32\\\\lib',\n",
       " 'C:\\\\Users\\\\ciara\\\\anaconda3\\\\envs\\\\ball\\\\lib\\\\site-packages\\\\Pythonwin',\n",
       " 'C:\\\\Users\\\\ciara\\\\anaconda3\\\\envs\\\\ball\\\\lib\\\\site-packages\\\\IPython\\\\extensions',\n",
       " 'C:\\\\Users\\\\ciara\\\\.ipython']"
      ]
     },
     "execution_count": 5,
     "metadata": {},
     "output_type": "execute_result"
    }
   ],
   "source": [
    "import sys\n",
    "sys.path"
   ]
  },
  {
   "cell_type": "code",
   "execution_count": 2,
   "metadata": {},
   "outputs": [],
   "source": [
    "digits = datasets.load_digits()\n",
    "X = digits.data\n",
    "y = digits.target"
   ]
  },
  {
   "cell_type": "markdown",
   "metadata": {},
   "source": [
    "## X contains flattened array of 8x8 grayscale images"
   ]
  },
  {
   "cell_type": "code",
   "execution_count": 3,
   "metadata": {},
   "outputs": [
    {
     "data": {
      "image/png": "[encoded data removed]",
      "text/plain": [
       "<Figure size 1152x576 with 8 Axes>"
      ]
     },
     "metadata": {
      "needs_background": "light"
     },
     "output_type": "display_data"
    }
   ],
   "source": [
    "NUMBER_OF_SAMPLES = 4\n",
    "\n",
    "fig, axs = plt.subplots(2, NUMBER_OF_SAMPLES,\n",
    "                       figsize=(16, 8))\n",
    "\n",
    "for i in range(NUMBER_OF_SAMPLES):\n",
    "    axs[0, i].imshow(X[i].reshape((8,8)))\n",
    "    axs[1, i].imshow(X[i+NUMBER_OF_SAMPLES].reshape((8,8)))"
   ]
  },
  {
   "cell_type": "code",
   "execution_count": 6,
   "metadata": {},
   "outputs": [],
   "source": [
    "pd.DataFrame(X).to_csv('data/digits_X.csv', index=False)\n",
    "pd.DataFrame(y, columns=['label']).to_csv('data/digits_y.csv', index=False)"
   ]
  },
  {
   "cell_type": "code",
   "execution_count": 7,
   "metadata": {},
   "outputs": [
    {
     "data": {
      "text/plain": [
       "(1797, 64)"
      ]
     },
     "execution_count": 7,
     "metadata": {},
     "output_type": "execute_result"
    }
   ],
   "source": [
    "X.shape"
   ]
  },
  {
   "cell_type": "markdown",
   "metadata": {},
   "source": [
    "## Compute PCA on 3 dimensions"
   ]
  },
  {
   "cell_type": "code",
   "execution_count": 8,
   "metadata": {},
   "outputs": [
    {
     "data": {
      "text/plain": [
       "(1797, 3)"
      ]
     },
     "execution_count": 8,
     "metadata": {},
     "output_type": "execute_result"
    }
   ],
   "source": [
    "pca = decomposition.PCA(n_components=3, random_state=42)\n",
    "pca.fit(X)\n",
    "X_3 = pca.transform(X)\n",
    "X_3.shape"
   ]
  },
  {
   "cell_type": "code",
   "execution_count": 9,
   "metadata": {},
   "outputs": [],
   "source": [
    "pd.DataFrame(X_3).to_csv('data/digits_X_PCA3.csv', index=False)"
   ]
  },
  {
   "cell_type": "code",
   "execution_count": null,
   "metadata": {},
   "outputs": [],
   "source": []
  }
 ],
 "metadata": {
  "kernelspec": {
   "display_name": "Python 3",
   "language": "python",
   "name": "python3"
  },
  "language_info": {
   "codemirror_mode": {
    "name": "ipython",
    "version": 3
   },
   "file_extension": ".py",
   "mimetype": "text/x-python",
   "name": "python",
   "nbconvert_exporter": "python",
   "pygments_lexer": "ipython3",
   "version": "3.7.6"
  }
 },
 "nbformat": 4,
 "nbformat_minor": 5
}
