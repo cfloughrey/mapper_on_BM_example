{
 "cells": [
  {
   "cell_type": "code",
   "execution_count": 1,
   "id": "354de776",
   "metadata": {},
   "outputs": [],
   "source": [
    "import numpy as np\n",
    "import pandas as  pd\n",
    "import matplotlib.pyplot as plt\n",
    "\n",
    "from sklearn import decomposition\n",
    "from sklearn import datasets"
   ]
  },
  {
   "cell_type": "code",
   "execution_count": 2,
   "id": "e7afcf42",
   "metadata": {},
   "outputs": [],
   "source": [
    "digits = datasets.load_digits()\n",
    "X = digits.data\n",
    "y = digits.target"
   ]
  },
  {
   "cell_type": "markdown",
   "id": "afa05189",
   "metadata": {},
   "source": [
    "## X contains flattened array of 8x8 grayscale images"
   ]
  },
  {
   "cell_type": "code",
   "execution_count": 3,
   "id": "156ae048",
   "metadata": {},
   "outputs": [
    {
     "data": {
      "image/png": "[encoded data removed]",
      "text/plain": [
       "<Figure size 1152x576 with 8 Axes>"
      ]
     },
     "metadata": {
      "needs_background": "light"
     },
     "output_type": "display_data"
    }
   ],
   "source": [
    "NUMBER_OF_SAMPLES = 4\n",
    "\n",
    "fig, axs = plt.subplots(2, NUMBER_OF_SAMPLES,\n",
    "                       figsize=(16, 8))\n",
    "\n",
    "for i in range(NUMBER_OF_SAMPLES):\n",
    "    axs[0, i].imshow(X[i].reshape((8,8)))\n",
    "    axs[1, i].imshow(X[i+NUMBER_OF_SAMPLES].reshape((8,8)))"
   ]
  },
  {
   "cell_type": "code",
   "execution_count": 4,
   "id": "ba6e8004",
   "metadata": {},
   "outputs": [],
   "source": [
    "pd.DataFrame(X).to_csv('data/digits_X.csv', index=False)\n",
    "pd.DataFrame(y, columns=['label']).to_csv('data/digits_y.csv', index=False)"
   ]
  },
  {
   "cell_type": "code",
   "execution_count": 5,
   "id": "05c837f8",
   "metadata": {},
   "outputs": [
    {
     "data": {
      "text/plain": [
       "(1797, 64)"
      ]
     },
     "execution_count": 5,
     "metadata": {},
     "output_type": "execute_result"
    }
   ],
   "source": [
    "X.shape"
   ]
  },
  {
   "cell_type": "markdown",
   "id": "5c5a9e9b",
   "metadata": {},
   "source": [
    "## Compute PCA on 3 dimensions"
   ]
  },
  {
   "cell_type": "code",
   "execution_count": 6,
   "id": "c59ad9f3",
   "metadata": {},
   "outputs": [
    {
     "data": {
      "text/plain": [
       "(1797, 3)"
      ]
     },
     "execution_count": 6,
     "metadata": {},
     "output_type": "execute_result"
    }
   ],
   "source": [
    "pca = decomposition.PCA(n_components=3, random_state=42)\n",
    "pca.fit(X)\n",
    "X_3 = pca.transform(X)\n",
    "X_3.shape"
   ]
  },
  {
   "cell_type": "code",
   "execution_count": 7,
   "id": "d3de05fc",
   "metadata": {},
   "outputs": [],
   "source": [
    "pd.DataFrame(X_3).to_csv('data/digits_X_PCA3.csv', index=False)"
   ]
  },
  {
   "cell_type": "code",
   "execution_count": null,
   "id": "8035d347",
   "metadata": {},
   "outputs": [],
   "source": []
  }
 ],
 "metadata": {
  "kernelspec": {
   "display_name": "Python 3 (ipykernel)",
   "language": "python",
   "name": "python3"
  },
  "language_info": {
   "codemirror_mode": {
    "name": "ipython",
    "version": 3
   },
   "file_extension": ".py",
   "mimetype": "text/x-python",
   "name": "python",
   "nbconvert_exporter": "python",
   "pygments_lexer": "ipython3",
   "version": "3.8.10"
  }
 },
 "nbformat": 4,
 "nbformat_minor": 5
}
