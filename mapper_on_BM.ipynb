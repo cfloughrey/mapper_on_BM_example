{
 "cells": [
  {
   "cell_type": "code",
   "execution_count": 1,
   "metadata": {},
   "outputs": [],
   "source": [
    "import networkx as nx\n",
    "import numpy as np\n",
    "import pandas as pd\n",
    "from math import sqrt\n",
    "import csv\n",
    "import sys"
   ]
  },
  {
   "cell_type": "code",
   "execution_count": 2,
   "metadata": {},
   "outputs": [],
   "source": [
    "from sklearn.cluster import DBSCAN\n",
    "from scipy.sparse import *"
   ]
  },
  {
   "cell_type": "code",
   "execution_count": 3,
   "metadata": {},
   "outputs": [],
   "source": [
    "from tqdm.notebook import tqdm"
   ]
  },
  {
   "cell_type": "code",
   "execution_count": 4,
   "metadata": {},
   "outputs": [],
   "source": [
    "from py.pyBallMapper_Bokeh import graph_GUI, read_graph_from_list"
   ]
  },
  {
   "cell_type": "code",
   "execution_count": 5,
   "metadata": {},
   "outputs": [],
   "source": [
    "from matplotlib.colors import ListedColormap\n",
    "from matplotlib import cm\n",
    "\n",
    "from bokeh.models import FixedTicker, LinearColorMapper, LogColorMapper, ColorBar, BasicTicker, LogTicker\n",
    "from matplotlib.colors import to_hex"
   ]
  },
  {
   "cell_type": "code",
   "execution_count": 6,
   "metadata": {},
   "outputs": [],
   "source": [
    "from bokeh.plotting import figure, show"
   ]
  },
  {
   "cell_type": "code",
   "execution_count": 7,
   "metadata": {},
   "outputs": [],
   "source": [
    "# to deal with large csv\n",
    "maxInt = sys.maxsize\n",
    "decrement = True\n",
    "\n",
    "while decrement:\n",
    "    # decrease the maxInt value by factor 10\n",
    "    # as long as the OverflowError occurs.\n",
    "    decrement = False\n",
    "    try:\n",
    "        csv.field_size_limit(maxInt)\n",
    "    except OverflowError:\n",
    "        maxInt = int(maxInt/10)\n",
    "        decrement = True"
   ]
  },
  {
   "cell_type": "markdown",
   "metadata": {},
   "source": [
    "# Let us visualize the BM plots"
   ]
  },
  {
   "cell_type": "code",
   "execution_count": 8,
   "metadata": {},
   "outputs": [
    {
     "name": "stdout",
     "output_type": "stream",
     "text": [
      "(1797, 1)\n"
     ]
    }
   ],
   "source": [
    "# table with the coloring functions\n",
    "coloring_df = pd.read_csv('data/digits_y.csv', sep=' ')\n",
    "# R indices start from 1...\n",
    "coloring_df.index = range(1, len(coloring_df)+1)\n",
    "\n",
    "print(coloring_df.shape)"
   ]
  },
  {
   "cell_type": "markdown",
   "metadata": {},
   "source": [
    "## BM on full digits data"
   ]
  },
  {
   "cell_type": "code",
   "execution_count": 9,
   "metadata": {},
   "outputs": [
    {
     "name": "stdout",
     "output_type": "stream",
     "text": [
      "loading edgelist\n",
      "loading points covered\n"
     ]
    },
    {
     "data": {
      "application/vnd.jupyter.widget-view+json": {
       "model_id": "fb79fc8655954b54b98d16fe60c40b65",
       "version_major": 2,
       "version_minor": 0
      },
      "text/plain": [
       "HBox(children=(FloatProgress(value=1.0, bar_style='info', max=1.0), HTML(value='')))"
      ]
     },
     "metadata": {},
     "output_type": "display_data"
    },
    {
     "name": "stdout",
     "output_type": "stream",
     "text": [
      "\n",
      "computing coloring\n"
     ]
    },
    {
     "data": {
      "application/vnd.jupyter.widget-view+json": {
       "model_id": "c6ae09ad98bc4d2a917605b5111d64f4",
       "version_major": 2,
       "version_minor": 0
      },
      "text/plain": [
       "HBox(children=(FloatProgress(value=0.0, max=8.0), HTML(value='')))"
      ]
     },
     "metadata": {},
     "output_type": "display_data"
    },
    {
     "name": "stdout",
     "output_type": "stream",
     "text": [
      "\n",
      "creating GUI\n",
      "color by variable label \n",
      "MIN_VALUE: 0.000, MAX_VALUE: 9.000\n"
     ]
    },
    {
     "ename": "ValueError",
     "evalue": "expected an instance of type Title, got BM plot on full digits data - EPSILON 50 of type str",
     "output_type": "error",
     "traceback": [
      "\u001b[1;31m---------------------------------------------------------------------------\u001b[0m",
      "\u001b[1;31mValueError\u001b[0m                                Traceback (most recent call last)",
      "\u001b[1;32m<ipython-input-9-c68406faf5fa>\u001b[0m in \u001b[0;36m<module>\u001b[1;34m\u001b[0m\n\u001b[0;32m     55\u001b[0m \u001b[0mmy_fancy_gui\u001b[0m\u001b[1;33m.\u001b[0m\u001b[0mplot\u001b[0m\u001b[1;33m.\u001b[0m\u001b[0madd_layout\u001b[0m\u001b[1;33m(\u001b[0m\u001b[0mcolor_bar\u001b[0m\u001b[1;33m,\u001b[0m \u001b[1;34m'right'\u001b[0m\u001b[1;33m)\u001b[0m\u001b[1;33m\u001b[0m\u001b[1;33m\u001b[0m\u001b[0m\n\u001b[0;32m     56\u001b[0m \u001b[1;33m\u001b[0m\u001b[0m\n\u001b[1;32m---> 57\u001b[1;33m \u001b[0mmy_fancy_gui\u001b[0m\u001b[1;33m.\u001b[0m\u001b[0mplot\u001b[0m\u001b[1;33m.\u001b[0m\u001b[0mtitle\u001b[0m \u001b[1;33m=\u001b[0m \u001b[1;34m'BM plot on full digits data - EPSILON {}'\u001b[0m\u001b[1;33m.\u001b[0m\u001b[0mformat\u001b[0m\u001b[1;33m(\u001b[0m\u001b[0mEPSILON\u001b[0m\u001b[1;33m)\u001b[0m\u001b[1;33m\u001b[0m\u001b[1;33m\u001b[0m\u001b[0m\n\u001b[0m\u001b[0;32m     58\u001b[0m \u001b[1;33m\u001b[0m\u001b[0m\n\u001b[0;32m     59\u001b[0m \u001b[0mshow\u001b[0m\u001b[1;33m(\u001b[0m\u001b[0mmy_fancy_gui\u001b[0m\u001b[1;33m.\u001b[0m\u001b[0mplot\u001b[0m\u001b[1;33m)\u001b[0m\u001b[1;33m\u001b[0m\u001b[1;33m\u001b[0m\u001b[0m\n",
      "\u001b[1;32m~\\anaconda3\\envs\\ball\\lib\\site-packages\\bokeh\\core\\has_props.py\u001b[0m in \u001b[0;36m__setattr__\u001b[1;34m(self, name, value)\u001b[0m\n\u001b[0;32m    272\u001b[0m \u001b[1;33m\u001b[0m\u001b[0m\n\u001b[0;32m    273\u001b[0m         \u001b[1;32mif\u001b[0m \u001b[0mname\u001b[0m \u001b[1;32min\u001b[0m \u001b[0mprops\u001b[0m \u001b[1;32mor\u001b[0m \u001b[1;33m(\u001b[0m\u001b[0mdescriptor\u001b[0m \u001b[1;32mis\u001b[0m \u001b[1;32mnot\u001b[0m \u001b[1;32mNone\u001b[0m \u001b[1;32mand\u001b[0m \u001b[0mdescriptor\u001b[0m\u001b[1;33m.\u001b[0m\u001b[0mfset\u001b[0m \u001b[1;32mis\u001b[0m \u001b[1;32mnot\u001b[0m \u001b[1;32mNone\u001b[0m\u001b[1;33m)\u001b[0m\u001b[1;33m:\u001b[0m\u001b[1;33m\u001b[0m\u001b[1;33m\u001b[0m\u001b[0m\n\u001b[1;32m--> 274\u001b[1;33m             \u001b[0msuper\u001b[0m\u001b[1;33m(\u001b[0m\u001b[1;33m)\u001b[0m\u001b[1;33m.\u001b[0m\u001b[0m__setattr__\u001b[0m\u001b[1;33m(\u001b[0m\u001b[0mname\u001b[0m\u001b[1;33m,\u001b[0m \u001b[0mvalue\u001b[0m\u001b[1;33m)\u001b[0m\u001b[1;33m\u001b[0m\u001b[1;33m\u001b[0m\u001b[0m\n\u001b[0m\u001b[0;32m    275\u001b[0m         \u001b[1;32melse\u001b[0m\u001b[1;33m:\u001b[0m\u001b[1;33m\u001b[0m\u001b[1;33m\u001b[0m\u001b[0m\n\u001b[0;32m    276\u001b[0m             \u001b[0mmatches\u001b[0m\u001b[1;33m,\u001b[0m \u001b[0mtext\u001b[0m \u001b[1;33m=\u001b[0m \u001b[0mdifflib\u001b[0m\u001b[1;33m.\u001b[0m\u001b[0mget_close_matches\u001b[0m\u001b[1;33m(\u001b[0m\u001b[0mname\u001b[0m\u001b[1;33m.\u001b[0m\u001b[0mlower\u001b[0m\u001b[1;33m(\u001b[0m\u001b[1;33m)\u001b[0m\u001b[1;33m,\u001b[0m \u001b[0mprops\u001b[0m\u001b[1;33m)\u001b[0m\u001b[1;33m,\u001b[0m \u001b[1;34m\"similar\"\u001b[0m\u001b[1;33m\u001b[0m\u001b[1;33m\u001b[0m\u001b[0m\n",
      "\u001b[1;32m~\\anaconda3\\envs\\ball\\lib\\site-packages\\bokeh\\core\\property\\descriptors.py\u001b[0m in \u001b[0;36m__set__\u001b[1;34m(self, obj, value, setter)\u001b[0m\n\u001b[0;32m    537\u001b[0m             \u001b[1;32mraise\u001b[0m \u001b[0mRuntimeError\u001b[0m\u001b[1;33m(\u001b[0m\u001b[1;34m\"%s.%s is a readonly property\"\u001b[0m \u001b[1;33m%\u001b[0m \u001b[1;33m(\u001b[0m\u001b[0mobj\u001b[0m\u001b[1;33m.\u001b[0m\u001b[0m__class__\u001b[0m\u001b[1;33m.\u001b[0m\u001b[0m__name__\u001b[0m\u001b[1;33m,\u001b[0m \u001b[0mself\u001b[0m\u001b[1;33m.\u001b[0m\u001b[0mname\u001b[0m\u001b[1;33m)\u001b[0m\u001b[1;33m)\u001b[0m\u001b[1;33m\u001b[0m\u001b[1;33m\u001b[0m\u001b[0m\n\u001b[0;32m    538\u001b[0m \u001b[1;33m\u001b[0m\u001b[0m\n\u001b[1;32m--> 539\u001b[1;33m         \u001b[0mself\u001b[0m\u001b[1;33m.\u001b[0m\u001b[0m_internal_set\u001b[0m\u001b[1;33m(\u001b[0m\u001b[0mobj\u001b[0m\u001b[1;33m,\u001b[0m \u001b[0mvalue\u001b[0m\u001b[1;33m,\u001b[0m \u001b[0msetter\u001b[0m\u001b[1;33m=\u001b[0m\u001b[0msetter\u001b[0m\u001b[1;33m)\u001b[0m\u001b[1;33m\u001b[0m\u001b[1;33m\u001b[0m\u001b[0m\n\u001b[0m\u001b[0;32m    540\u001b[0m \u001b[1;33m\u001b[0m\u001b[0m\n\u001b[0;32m    541\u001b[0m     \u001b[1;32mdef\u001b[0m \u001b[0m__delete__\u001b[0m\u001b[1;33m(\u001b[0m\u001b[0mself\u001b[0m\u001b[1;33m,\u001b[0m \u001b[0mobj\u001b[0m\u001b[1;33m)\u001b[0m\u001b[1;33m:\u001b[0m\u001b[1;33m\u001b[0m\u001b[1;33m\u001b[0m\u001b[0m\n",
      "\u001b[1;32m~\\anaconda3\\envs\\ball\\lib\\site-packages\\bokeh\\core\\property\\descriptors.py\u001b[0m in \u001b[0;36m_internal_set\u001b[1;34m(self, obj, value, hint, setter)\u001b[0m\n\u001b[0;32m    758\u001b[0m \u001b[1;33m\u001b[0m\u001b[0m\n\u001b[0;32m    759\u001b[0m         '''\n\u001b[1;32m--> 760\u001b[1;33m         \u001b[0mvalue\u001b[0m \u001b[1;33m=\u001b[0m \u001b[0mself\u001b[0m\u001b[1;33m.\u001b[0m\u001b[0mproperty\u001b[0m\u001b[1;33m.\u001b[0m\u001b[0mprepare_value\u001b[0m\u001b[1;33m(\u001b[0m\u001b[0mobj\u001b[0m\u001b[1;33m,\u001b[0m \u001b[0mself\u001b[0m\u001b[1;33m.\u001b[0m\u001b[0mname\u001b[0m\u001b[1;33m,\u001b[0m \u001b[0mvalue\u001b[0m\u001b[1;33m)\u001b[0m\u001b[1;33m\u001b[0m\u001b[1;33m\u001b[0m\u001b[0m\n\u001b[0m\u001b[0;32m    761\u001b[0m \u001b[1;33m\u001b[0m\u001b[0m\n\u001b[0;32m    762\u001b[0m         \u001b[0mold\u001b[0m \u001b[1;33m=\u001b[0m \u001b[0mself\u001b[0m\u001b[1;33m.\u001b[0m\u001b[0m__get__\u001b[0m\u001b[1;33m(\u001b[0m\u001b[0mobj\u001b[0m\u001b[1;33m,\u001b[0m \u001b[0mobj\u001b[0m\u001b[1;33m.\u001b[0m\u001b[0m__class__\u001b[0m\u001b[1;33m)\u001b[0m\u001b[1;33m\u001b[0m\u001b[1;33m\u001b[0m\u001b[0m\n",
      "\u001b[1;32m~\\anaconda3\\envs\\ball\\lib\\site-packages\\bokeh\\core\\property\\bases.py\u001b[0m in \u001b[0;36mprepare_value\u001b[1;34m(self, obj_or_cls, name, value)\u001b[0m\n\u001b[0;32m    329\u001b[0m                     \u001b[1;32mbreak\u001b[0m\u001b[1;33m\u001b[0m\u001b[1;33m\u001b[0m\u001b[0m\n\u001b[0;32m    330\u001b[0m             \u001b[1;32melse\u001b[0m\u001b[1;33m:\u001b[0m\u001b[1;33m\u001b[0m\u001b[1;33m\u001b[0m\u001b[0m\n\u001b[1;32m--> 331\u001b[1;33m                 \u001b[1;32mraise\u001b[0m \u001b[0me\u001b[0m\u001b[1;33m\u001b[0m\u001b[1;33m\u001b[0m\u001b[0m\n\u001b[0m\u001b[0;32m    332\u001b[0m         \u001b[1;32melse\u001b[0m\u001b[1;33m:\u001b[0m\u001b[1;33m\u001b[0m\u001b[1;33m\u001b[0m\u001b[0m\n\u001b[0;32m    333\u001b[0m             \u001b[0mvalue\u001b[0m \u001b[1;33m=\u001b[0m \u001b[0mself\u001b[0m\u001b[1;33m.\u001b[0m\u001b[0mtransform\u001b[0m\u001b[1;33m(\u001b[0m\u001b[0mvalue\u001b[0m\u001b[1;33m)\u001b[0m\u001b[1;33m\u001b[0m\u001b[1;33m\u001b[0m\u001b[0m\n",
      "\u001b[1;32m~\\anaconda3\\envs\\ball\\lib\\site-packages\\bokeh\\core\\property\\bases.py\u001b[0m in \u001b[0;36mprepare_value\u001b[1;34m(self, obj_or_cls, name, value)\u001b[0m\n\u001b[0;32m    322\u001b[0m         \u001b[1;32mtry\u001b[0m\u001b[1;33m:\u001b[0m\u001b[1;33m\u001b[0m\u001b[1;33m\u001b[0m\u001b[0m\n\u001b[0;32m    323\u001b[0m             \u001b[1;32mif\u001b[0m \u001b[0mvalidation_on\u001b[0m\u001b[1;33m(\u001b[0m\u001b[1;33m)\u001b[0m\u001b[1;33m:\u001b[0m\u001b[1;33m\u001b[0m\u001b[1;33m\u001b[0m\u001b[0m\n\u001b[1;32m--> 324\u001b[1;33m                 \u001b[0mself\u001b[0m\u001b[1;33m.\u001b[0m\u001b[0mvalidate\u001b[0m\u001b[1;33m(\u001b[0m\u001b[0mvalue\u001b[0m\u001b[1;33m)\u001b[0m\u001b[1;33m\u001b[0m\u001b[1;33m\u001b[0m\u001b[0m\n\u001b[0m\u001b[0;32m    325\u001b[0m         \u001b[1;32mexcept\u001b[0m \u001b[0mValueError\u001b[0m \u001b[1;32mas\u001b[0m \u001b[0me\u001b[0m\u001b[1;33m:\u001b[0m\u001b[1;33m\u001b[0m\u001b[1;33m\u001b[0m\u001b[0m\n\u001b[0;32m    326\u001b[0m             \u001b[1;32mfor\u001b[0m \u001b[0mtp\u001b[0m\u001b[1;33m,\u001b[0m \u001b[0mconverter\u001b[0m \u001b[1;32min\u001b[0m \u001b[0mself\u001b[0m\u001b[1;33m.\u001b[0m\u001b[0malternatives\u001b[0m\u001b[1;33m:\u001b[0m\u001b[1;33m\u001b[0m\u001b[1;33m\u001b[0m\u001b[0m\n",
      "\u001b[1;32m~\\anaconda3\\envs\\ball\\lib\\site-packages\\bokeh\\core\\property\\instance.py\u001b[0m in \u001b[0;36mvalidate\u001b[1;34m(self, value, detail)\u001b[0m\n\u001b[0;32m    110\u001b[0m             \u001b[1;32mif\u001b[0m \u001b[1;32mnot\u001b[0m \u001b[0misinstance\u001b[0m\u001b[1;33m(\u001b[0m\u001b[0mvalue\u001b[0m\u001b[1;33m,\u001b[0m \u001b[0mself\u001b[0m\u001b[1;33m.\u001b[0m\u001b[0minstance_type\u001b[0m\u001b[1;33m)\u001b[0m\u001b[1;33m:\u001b[0m\u001b[1;33m\u001b[0m\u001b[1;33m\u001b[0m\u001b[0m\n\u001b[0;32m    111\u001b[0m                 \u001b[0mmsg\u001b[0m \u001b[1;33m=\u001b[0m \u001b[1;34m\"\"\u001b[0m \u001b[1;32mif\u001b[0m \u001b[1;32mnot\u001b[0m \u001b[0mdetail\u001b[0m \u001b[1;32melse\u001b[0m \u001b[1;34m\"expected an instance of type %s, got %s of type %s\"\u001b[0m \u001b[1;33m%\u001b[0m \u001b[1;33m(\u001b[0m\u001b[0mself\u001b[0m\u001b[1;33m.\u001b[0m\u001b[0minstance_type\u001b[0m\u001b[1;33m.\u001b[0m\u001b[0m__name__\u001b[0m\u001b[1;33m,\u001b[0m \u001b[0mvalue\u001b[0m\u001b[1;33m,\u001b[0m \u001b[0mtype\u001b[0m\u001b[1;33m(\u001b[0m\u001b[0mvalue\u001b[0m\u001b[1;33m)\u001b[0m\u001b[1;33m.\u001b[0m\u001b[0m__name__\u001b[0m\u001b[1;33m)\u001b[0m\u001b[1;33m\u001b[0m\u001b[1;33m\u001b[0m\u001b[0m\n\u001b[1;32m--> 112\u001b[1;33m                 \u001b[1;32mraise\u001b[0m \u001b[0mValueError\u001b[0m\u001b[1;33m(\u001b[0m\u001b[0mmsg\u001b[0m\u001b[1;33m)\u001b[0m\u001b[1;33m\u001b[0m\u001b[1;33m\u001b[0m\u001b[0m\n\u001b[0m\u001b[0;32m    113\u001b[0m \u001b[1;33m\u001b[0m\u001b[0m\n\u001b[0;32m    114\u001b[0m     \u001b[1;32mdef\u001b[0m \u001b[0m_may_have_unstable_default\u001b[0m\u001b[1;33m(\u001b[0m\u001b[0mself\u001b[0m\u001b[1;33m)\u001b[0m\u001b[1;33m:\u001b[0m\u001b[1;33m\u001b[0m\u001b[1;33m\u001b[0m\u001b[0m\n",
      "\u001b[1;31mValueError\u001b[0m: expected an instance of type Title, got BM plot on full digits data - EPSILON 50 of type str"
     ]
    }
   ],
   "source": [
    "# PLOT THE BM GRAPH o\n",
    "\n",
    "EPSILON = 50\n",
    "\n",
    "# adj lists path\n",
    "GRAPH1_PATH = 'BM_graphs/digits_X/{}_edges'.format(EPSILON)\n",
    "# point covered by each node path\n",
    "GRAPH1_POINTS_PATH = 'BM_graphs/digits_X/{}_points_covered_by_landmarks'.format(EPSILON)\n",
    "\n",
    "\n",
    "###########\n",
    "# GRAPH 1 #\n",
    "###########\n",
    "\n",
    "#Here we adopt standard colour palette\n",
    "my_red_palette = cm.get_cmap(name='jet') # multicolor\n",
    "#my_red_palette = cm.get_cmap(name='Reds') # monochrome\n",
    "\n",
    "# read graph\n",
    "# ASSUME NODES ARE NUMBERED FROM 1 TO N\n",
    "G1 = read_graph_from_list(GRAPH1_PATH, GRAPH1_POINTS_PATH,\n",
    "                          coloring_df[['label']],\n",
    "                          add_points_covered=False\n",
    "                          )\n",
    "\n",
    "# create a GUI with input our BM graph, \n",
    "# a dataframe with coloring functions (one value per point in the pointcloud)\n",
    "# and a color palette\n",
    "# in this case we use the pointcloud as coloring function\n",
    "print('creating GUI')\n",
    "my_fancy_gui = graph_GUI(G1, my_red_palette, \n",
    "                         coloring_df[['label']].columns.to_list(),\n",
    "                         figsize=(800, 600),\n",
    "                         render_iterations=2000)\n",
    "\n",
    "my_fancy_gui.color_by_variable('label', MIN_VALUE=0, MAX_VALUE=9)\n",
    "\n",
    "# add a legend\n",
    "num_ticks = 10\n",
    "low = 0\n",
    "high = 9\n",
    "color_mapper = LinearColorMapper(palette=[to_hex(my_red_palette(color_id)) \n",
    "                                          for color_id in np.linspace(0, 1, num_ticks)], \n",
    "                                 low=low-0.5, high=high+0.5)\n",
    "\n",
    "ticks = [i for i in range(low, high+1, 1)]\n",
    "color_ticks = FixedTicker(ticks=ticks)\n",
    "\n",
    "color_bar = ColorBar(color_mapper=color_mapper, \n",
    "                     major_label_text_font_size='14pt',\n",
    "                     label_standoff=12,\n",
    "                     ticker=color_ticks,\n",
    "                    )\n",
    "\n",
    "my_fancy_gui.plot.add_layout(color_bar, 'right')\n",
    "\n",
    "my_fancy_gui.plot.title = 'BM plot on full digits data - EPSILON {}'.format(EPSILON)\n",
    "\n",
    "show(my_fancy_gui.plot)"
   ]
  },
  {
   "cell_type": "markdown",
   "metadata": {},
   "source": [
    "## BM on PCA (10 dimensions) digits data"
   ]
  },
  {
   "cell_type": "code",
   "execution_count": 11,
   "metadata": {},
   "outputs": [
    {
     "name": "stdout",
     "output_type": "stream",
     "text": [
      "loading edgelist\n",
      "loading points covered\n"
     ]
    },
    {
     "data": {
      "application/vnd.jupyter.widget-view+json": {
       "model_id": "f8e1380342684480add95e3da62da2a6",
       "version_major": 2,
       "version_minor": 0
      },
      "text/plain": [
       "HBox(children=(FloatProgress(value=1.0, bar_style='info', max=1.0), HTML(value='')))"
      ]
     },
     "metadata": {},
     "output_type": "display_data"
    },
    {
     "name": "stdout",
     "output_type": "stream",
     "text": [
      "\n",
      "computing coloring\n"
     ]
    },
    {
     "data": {
      "application/vnd.jupyter.widget-view+json": {
       "model_id": "8f4515f9f0dd41beba417edcd410a20c",
       "version_major": 2,
       "version_minor": 0
      },
      "text/plain": [
       "HBox(children=(FloatProgress(value=0.0, max=8.0), HTML(value='')))"
      ]
     },
     "metadata": {},
     "output_type": "display_data"
    },
    {
     "name": "stdout",
     "output_type": "stream",
     "text": [
      "\n",
      "creating GUI\n",
      "color by variable label \n",
      "MIN_VALUE: 0.000, MAX_VALUE: 9.000\n"
     ]
    },
    {
     "ename": "ValueError",
     "evalue": "expected an instance of type Title, got BM on PCA (10 dimensions) digits data - EPSILON 20 of type str",
     "output_type": "error",
     "traceback": [
      "\u001b[1;31m---------------------------------------------------------------------------\u001b[0m",
      "\u001b[1;31mValueError\u001b[0m                                Traceback (most recent call last)",
      "\u001b[1;32m<ipython-input-11-bf1dcbdb332c>\u001b[0m in \u001b[0;36m<module>\u001b[1;34m\u001b[0m\n\u001b[0;32m     55\u001b[0m \u001b[0mmy_fancy_gui\u001b[0m\u001b[1;33m.\u001b[0m\u001b[0mplot\u001b[0m\u001b[1;33m.\u001b[0m\u001b[0madd_layout\u001b[0m\u001b[1;33m(\u001b[0m\u001b[0mcolor_bar\u001b[0m\u001b[1;33m,\u001b[0m \u001b[1;34m'right'\u001b[0m\u001b[1;33m)\u001b[0m\u001b[1;33m\u001b[0m\u001b[1;33m\u001b[0m\u001b[0m\n\u001b[0;32m     56\u001b[0m \u001b[1;33m\u001b[0m\u001b[0m\n\u001b[1;32m---> 57\u001b[1;33m \u001b[0mmy_fancy_gui\u001b[0m\u001b[1;33m.\u001b[0m\u001b[0mplot\u001b[0m\u001b[1;33m.\u001b[0m\u001b[0mtitle\u001b[0m \u001b[1;33m=\u001b[0m \u001b[1;34m'BM on PCA (10 dimensions) digits data - EPSILON {}'\u001b[0m\u001b[1;33m.\u001b[0m\u001b[0mformat\u001b[0m\u001b[1;33m(\u001b[0m\u001b[0mEPSILON\u001b[0m\u001b[1;33m)\u001b[0m\u001b[1;33m\u001b[0m\u001b[1;33m\u001b[0m\u001b[0m\n\u001b[0m\u001b[0;32m     58\u001b[0m \u001b[1;33m\u001b[0m\u001b[0m\n\u001b[0;32m     59\u001b[0m \u001b[0mshow\u001b[0m\u001b[1;33m(\u001b[0m\u001b[0mmy_fancy_gui\u001b[0m\u001b[1;33m.\u001b[0m\u001b[0mplot\u001b[0m\u001b[1;33m)\u001b[0m\u001b[1;33m\u001b[0m\u001b[1;33m\u001b[0m\u001b[0m\n",
      "\u001b[1;32m~\\anaconda3\\envs\\ball\\lib\\site-packages\\bokeh\\core\\has_props.py\u001b[0m in \u001b[0;36m__setattr__\u001b[1;34m(self, name, value)\u001b[0m\n\u001b[0;32m    272\u001b[0m \u001b[1;33m\u001b[0m\u001b[0m\n\u001b[0;32m    273\u001b[0m         \u001b[1;32mif\u001b[0m \u001b[0mname\u001b[0m \u001b[1;32min\u001b[0m \u001b[0mprops\u001b[0m \u001b[1;32mor\u001b[0m \u001b[1;33m(\u001b[0m\u001b[0mdescriptor\u001b[0m \u001b[1;32mis\u001b[0m \u001b[1;32mnot\u001b[0m \u001b[1;32mNone\u001b[0m \u001b[1;32mand\u001b[0m \u001b[0mdescriptor\u001b[0m\u001b[1;33m.\u001b[0m\u001b[0mfset\u001b[0m \u001b[1;32mis\u001b[0m \u001b[1;32mnot\u001b[0m \u001b[1;32mNone\u001b[0m\u001b[1;33m)\u001b[0m\u001b[1;33m:\u001b[0m\u001b[1;33m\u001b[0m\u001b[1;33m\u001b[0m\u001b[0m\n\u001b[1;32m--> 274\u001b[1;33m             \u001b[0msuper\u001b[0m\u001b[1;33m(\u001b[0m\u001b[1;33m)\u001b[0m\u001b[1;33m.\u001b[0m\u001b[0m__setattr__\u001b[0m\u001b[1;33m(\u001b[0m\u001b[0mname\u001b[0m\u001b[1;33m,\u001b[0m \u001b[0mvalue\u001b[0m\u001b[1;33m)\u001b[0m\u001b[1;33m\u001b[0m\u001b[1;33m\u001b[0m\u001b[0m\n\u001b[0m\u001b[0;32m    275\u001b[0m         \u001b[1;32melse\u001b[0m\u001b[1;33m:\u001b[0m\u001b[1;33m\u001b[0m\u001b[1;33m\u001b[0m\u001b[0m\n\u001b[0;32m    276\u001b[0m             \u001b[0mmatches\u001b[0m\u001b[1;33m,\u001b[0m \u001b[0mtext\u001b[0m \u001b[1;33m=\u001b[0m \u001b[0mdifflib\u001b[0m\u001b[1;33m.\u001b[0m\u001b[0mget_close_matches\u001b[0m\u001b[1;33m(\u001b[0m\u001b[0mname\u001b[0m\u001b[1;33m.\u001b[0m\u001b[0mlower\u001b[0m\u001b[1;33m(\u001b[0m\u001b[1;33m)\u001b[0m\u001b[1;33m,\u001b[0m \u001b[0mprops\u001b[0m\u001b[1;33m)\u001b[0m\u001b[1;33m,\u001b[0m \u001b[1;34m\"similar\"\u001b[0m\u001b[1;33m\u001b[0m\u001b[1;33m\u001b[0m\u001b[0m\n",
      "\u001b[1;32m~\\anaconda3\\envs\\ball\\lib\\site-packages\\bokeh\\core\\property\\descriptors.py\u001b[0m in \u001b[0;36m__set__\u001b[1;34m(self, obj, value, setter)\u001b[0m\n\u001b[0;32m    537\u001b[0m             \u001b[1;32mraise\u001b[0m \u001b[0mRuntimeError\u001b[0m\u001b[1;33m(\u001b[0m\u001b[1;34m\"%s.%s is a readonly property\"\u001b[0m \u001b[1;33m%\u001b[0m \u001b[1;33m(\u001b[0m\u001b[0mobj\u001b[0m\u001b[1;33m.\u001b[0m\u001b[0m__class__\u001b[0m\u001b[1;33m.\u001b[0m\u001b[0m__name__\u001b[0m\u001b[1;33m,\u001b[0m \u001b[0mself\u001b[0m\u001b[1;33m.\u001b[0m\u001b[0mname\u001b[0m\u001b[1;33m)\u001b[0m\u001b[1;33m)\u001b[0m\u001b[1;33m\u001b[0m\u001b[1;33m\u001b[0m\u001b[0m\n\u001b[0;32m    538\u001b[0m \u001b[1;33m\u001b[0m\u001b[0m\n\u001b[1;32m--> 539\u001b[1;33m         \u001b[0mself\u001b[0m\u001b[1;33m.\u001b[0m\u001b[0m_internal_set\u001b[0m\u001b[1;33m(\u001b[0m\u001b[0mobj\u001b[0m\u001b[1;33m,\u001b[0m \u001b[0mvalue\u001b[0m\u001b[1;33m,\u001b[0m \u001b[0msetter\u001b[0m\u001b[1;33m=\u001b[0m\u001b[0msetter\u001b[0m\u001b[1;33m)\u001b[0m\u001b[1;33m\u001b[0m\u001b[1;33m\u001b[0m\u001b[0m\n\u001b[0m\u001b[0;32m    540\u001b[0m \u001b[1;33m\u001b[0m\u001b[0m\n\u001b[0;32m    541\u001b[0m     \u001b[1;32mdef\u001b[0m \u001b[0m__delete__\u001b[0m\u001b[1;33m(\u001b[0m\u001b[0mself\u001b[0m\u001b[1;33m,\u001b[0m \u001b[0mobj\u001b[0m\u001b[1;33m)\u001b[0m\u001b[1;33m:\u001b[0m\u001b[1;33m\u001b[0m\u001b[1;33m\u001b[0m\u001b[0m\n",
      "\u001b[1;32m~\\anaconda3\\envs\\ball\\lib\\site-packages\\bokeh\\core\\property\\descriptors.py\u001b[0m in \u001b[0;36m_internal_set\u001b[1;34m(self, obj, value, hint, setter)\u001b[0m\n\u001b[0;32m    758\u001b[0m \u001b[1;33m\u001b[0m\u001b[0m\n\u001b[0;32m    759\u001b[0m         '''\n\u001b[1;32m--> 760\u001b[1;33m         \u001b[0mvalue\u001b[0m \u001b[1;33m=\u001b[0m \u001b[0mself\u001b[0m\u001b[1;33m.\u001b[0m\u001b[0mproperty\u001b[0m\u001b[1;33m.\u001b[0m\u001b[0mprepare_value\u001b[0m\u001b[1;33m(\u001b[0m\u001b[0mobj\u001b[0m\u001b[1;33m,\u001b[0m \u001b[0mself\u001b[0m\u001b[1;33m.\u001b[0m\u001b[0mname\u001b[0m\u001b[1;33m,\u001b[0m \u001b[0mvalue\u001b[0m\u001b[1;33m)\u001b[0m\u001b[1;33m\u001b[0m\u001b[1;33m\u001b[0m\u001b[0m\n\u001b[0m\u001b[0;32m    761\u001b[0m \u001b[1;33m\u001b[0m\u001b[0m\n\u001b[0;32m    762\u001b[0m         \u001b[0mold\u001b[0m \u001b[1;33m=\u001b[0m \u001b[0mself\u001b[0m\u001b[1;33m.\u001b[0m\u001b[0m__get__\u001b[0m\u001b[1;33m(\u001b[0m\u001b[0mobj\u001b[0m\u001b[1;33m,\u001b[0m \u001b[0mobj\u001b[0m\u001b[1;33m.\u001b[0m\u001b[0m__class__\u001b[0m\u001b[1;33m)\u001b[0m\u001b[1;33m\u001b[0m\u001b[1;33m\u001b[0m\u001b[0m\n",
      "\u001b[1;32m~\\anaconda3\\envs\\ball\\lib\\site-packages\\bokeh\\core\\property\\bases.py\u001b[0m in \u001b[0;36mprepare_value\u001b[1;34m(self, obj_or_cls, name, value)\u001b[0m\n\u001b[0;32m    329\u001b[0m                     \u001b[1;32mbreak\u001b[0m\u001b[1;33m\u001b[0m\u001b[1;33m\u001b[0m\u001b[0m\n\u001b[0;32m    330\u001b[0m             \u001b[1;32melse\u001b[0m\u001b[1;33m:\u001b[0m\u001b[1;33m\u001b[0m\u001b[1;33m\u001b[0m\u001b[0m\n\u001b[1;32m--> 331\u001b[1;33m                 \u001b[1;32mraise\u001b[0m \u001b[0me\u001b[0m\u001b[1;33m\u001b[0m\u001b[1;33m\u001b[0m\u001b[0m\n\u001b[0m\u001b[0;32m    332\u001b[0m         \u001b[1;32melse\u001b[0m\u001b[1;33m:\u001b[0m\u001b[1;33m\u001b[0m\u001b[1;33m\u001b[0m\u001b[0m\n\u001b[0;32m    333\u001b[0m             \u001b[0mvalue\u001b[0m \u001b[1;33m=\u001b[0m \u001b[0mself\u001b[0m\u001b[1;33m.\u001b[0m\u001b[0mtransform\u001b[0m\u001b[1;33m(\u001b[0m\u001b[0mvalue\u001b[0m\u001b[1;33m)\u001b[0m\u001b[1;33m\u001b[0m\u001b[1;33m\u001b[0m\u001b[0m\n",
      "\u001b[1;32m~\\anaconda3\\envs\\ball\\lib\\site-packages\\bokeh\\core\\property\\bases.py\u001b[0m in \u001b[0;36mprepare_value\u001b[1;34m(self, obj_or_cls, name, value)\u001b[0m\n\u001b[0;32m    322\u001b[0m         \u001b[1;32mtry\u001b[0m\u001b[1;33m:\u001b[0m\u001b[1;33m\u001b[0m\u001b[1;33m\u001b[0m\u001b[0m\n\u001b[0;32m    323\u001b[0m             \u001b[1;32mif\u001b[0m \u001b[0mvalidation_on\u001b[0m\u001b[1;33m(\u001b[0m\u001b[1;33m)\u001b[0m\u001b[1;33m:\u001b[0m\u001b[1;33m\u001b[0m\u001b[1;33m\u001b[0m\u001b[0m\n\u001b[1;32m--> 324\u001b[1;33m                 \u001b[0mself\u001b[0m\u001b[1;33m.\u001b[0m\u001b[0mvalidate\u001b[0m\u001b[1;33m(\u001b[0m\u001b[0mvalue\u001b[0m\u001b[1;33m)\u001b[0m\u001b[1;33m\u001b[0m\u001b[1;33m\u001b[0m\u001b[0m\n\u001b[0m\u001b[0;32m    325\u001b[0m         \u001b[1;32mexcept\u001b[0m \u001b[0mValueError\u001b[0m \u001b[1;32mas\u001b[0m \u001b[0me\u001b[0m\u001b[1;33m:\u001b[0m\u001b[1;33m\u001b[0m\u001b[1;33m\u001b[0m\u001b[0m\n\u001b[0;32m    326\u001b[0m             \u001b[1;32mfor\u001b[0m \u001b[0mtp\u001b[0m\u001b[1;33m,\u001b[0m \u001b[0mconverter\u001b[0m \u001b[1;32min\u001b[0m \u001b[0mself\u001b[0m\u001b[1;33m.\u001b[0m\u001b[0malternatives\u001b[0m\u001b[1;33m:\u001b[0m\u001b[1;33m\u001b[0m\u001b[1;33m\u001b[0m\u001b[0m\n",
      "\u001b[1;32m~\\anaconda3\\envs\\ball\\lib\\site-packages\\bokeh\\core\\property\\instance.py\u001b[0m in \u001b[0;36mvalidate\u001b[1;34m(self, value, detail)\u001b[0m\n\u001b[0;32m    110\u001b[0m             \u001b[1;32mif\u001b[0m \u001b[1;32mnot\u001b[0m \u001b[0misinstance\u001b[0m\u001b[1;33m(\u001b[0m\u001b[0mvalue\u001b[0m\u001b[1;33m,\u001b[0m \u001b[0mself\u001b[0m\u001b[1;33m.\u001b[0m\u001b[0minstance_type\u001b[0m\u001b[1;33m)\u001b[0m\u001b[1;33m:\u001b[0m\u001b[1;33m\u001b[0m\u001b[1;33m\u001b[0m\u001b[0m\n\u001b[0;32m    111\u001b[0m                 \u001b[0mmsg\u001b[0m \u001b[1;33m=\u001b[0m \u001b[1;34m\"\"\u001b[0m \u001b[1;32mif\u001b[0m \u001b[1;32mnot\u001b[0m \u001b[0mdetail\u001b[0m \u001b[1;32melse\u001b[0m \u001b[1;34m\"expected an instance of type %s, got %s of type %s\"\u001b[0m \u001b[1;33m%\u001b[0m \u001b[1;33m(\u001b[0m\u001b[0mself\u001b[0m\u001b[1;33m.\u001b[0m\u001b[0minstance_type\u001b[0m\u001b[1;33m.\u001b[0m\u001b[0m__name__\u001b[0m\u001b[1;33m,\u001b[0m \u001b[0mvalue\u001b[0m\u001b[1;33m,\u001b[0m \u001b[0mtype\u001b[0m\u001b[1;33m(\u001b[0m\u001b[0mvalue\u001b[0m\u001b[1;33m)\u001b[0m\u001b[1;33m.\u001b[0m\u001b[0m__name__\u001b[0m\u001b[1;33m)\u001b[0m\u001b[1;33m\u001b[0m\u001b[1;33m\u001b[0m\u001b[0m\n\u001b[1;32m--> 112\u001b[1;33m                 \u001b[1;32mraise\u001b[0m \u001b[0mValueError\u001b[0m\u001b[1;33m(\u001b[0m\u001b[0mmsg\u001b[0m\u001b[1;33m)\u001b[0m\u001b[1;33m\u001b[0m\u001b[1;33m\u001b[0m\u001b[0m\n\u001b[0m\u001b[0;32m    113\u001b[0m \u001b[1;33m\u001b[0m\u001b[0m\n\u001b[0;32m    114\u001b[0m     \u001b[1;32mdef\u001b[0m \u001b[0m_may_have_unstable_default\u001b[0m\u001b[1;33m(\u001b[0m\u001b[0mself\u001b[0m\u001b[1;33m)\u001b[0m\u001b[1;33m:\u001b[0m\u001b[1;33m\u001b[0m\u001b[1;33m\u001b[0m\u001b[0m\n",
      "\u001b[1;31mValueError\u001b[0m: expected an instance of type Title, got BM on PCA (10 dimensions) digits data - EPSILON 20 of type str"
     ]
    }
   ],
   "source": [
    "# PLOT THE BM GRAPH o\n",
    "\n",
    "EPSILON = 20\n",
    "\n",
    "# adj lists path\n",
    "GRAPH1_PATH = 'BM_graphs/digits_X/{}_edges'.format(EPSILON)\n",
    "# point covered by each node path\n",
    "GRAPH1_POINTS_PATH = 'BM_graphs/digits_X/{}_points_covered_by_landmarks'.format(EPSILON)\n",
    "\n",
    "\n",
    "###########\n",
    "# GRAPH 1 #\n",
    "###########\n",
    "\n",
    "#Here we adopt standard colour palette\n",
    "my_red_palette = cm.get_cmap(name='jet') # multicolor\n",
    "#my_red_palette = cm.get_cmap(name='Reds') # monochrome\n",
    "\n",
    "# read graph\n",
    "# ASSUME NODES ARE NUMBERED FROM 1 TO N\n",
    "G1 = read_graph_from_list(GRAPH1_PATH, GRAPH1_POINTS_PATH,\n",
    "                          coloring_df[['label']],\n",
    "                          add_points_covered=False\n",
    "                          )\n",
    "\n",
    "# create a GUI with input our BM graph, \n",
    "# a dataframe with coloring functions (one value per point in the pointcloud)\n",
    "# and a color palette\n",
    "# in this case we use the pointcloud as coloring function\n",
    "print('creating GUI')\n",
    "my_fancy_gui = graph_GUI(G1, my_red_palette, \n",
    "                         coloring_df[['label']].columns.to_list(),\n",
    "                         figsize=(800, 600),\n",
    "                         render_iterations=2000)\n",
    "\n",
    "my_fancy_gui.color_by_variable('label', MIN_VALUE=0, MAX_VALUE=9)\n",
    "\n",
    "# add a legend\n",
    "num_ticks = 10\n",
    "low = 0\n",
    "high = 9\n",
    "color_mapper = LinearColorMapper(palette=[to_hex(my_red_palette(color_id)) \n",
    "                                          for color_id in np.linspace(0, 1, num_ticks)], \n",
    "                                 low=low-0.5, high=high+0.5)\n",
    "\n",
    "ticks = [i for i in range(low, high+1, 1)]\n",
    "color_ticks = FixedTicker(ticks=ticks)\n",
    "\n",
    "color_bar = ColorBar(color_mapper=color_mapper, \n",
    "                     major_label_text_font_size='14pt',\n",
    "                     label_standoff=12,\n",
    "                     ticker=color_ticks,\n",
    "                    )\n",
    "\n",
    "my_fancy_gui.plot.add_layout(color_bar, 'right')\n",
    "\n",
    "my_fancy_gui.plot.title = 'BM on PCA (10 dimensions) digits data - EPSILON {}'.format(EPSILON)\n",
    "\n",
    "show(my_fancy_gui.plot)"
   ]
  },
  {
   "cell_type": "code",
   "execution_count": null,
   "metadata": {},
   "outputs": [],
   "source": []
  },
  {
   "cell_type": "code",
   "execution_count": null,
   "metadata": {},
   "outputs": [],
   "source": []
  },
  {
   "cell_type": "markdown",
   "metadata": {},
   "source": [
    "# MAPPER ON BM"
   ]
  },
  {
   "cell_type": "code",
   "execution_count": 12,
   "metadata": {},
   "outputs": [],
   "source": [
    "# mapper on BM using DBscan as clustering algo\n",
    "# it can use scipy csr sparse matrix to speed up computations\n",
    "# inputs:\n",
    "#     origin_BM   ball mapper graph\n",
    "#     target_pts  pandas dataframe where to pull back elements in the BM\n",
    "#     EPS         radius for the DBscan algo\n",
    "#     MIN_SAMPLES min number of elements in a cluster that make it a cluster and not noise\n",
    "# https://scikit-learn.org/stable/modules/generated/sklearn.cluster.DBSCAN.html\n",
    "\n",
    "def mapper_on_BM(origin_BM, target_pts, EPS, MIN_SAMPLES=1, sparse=False):\n",
    "    new_graph = nx.Graph()\n",
    "\n",
    "    # creates a sparse CSR matrix\n",
    "    if sparse:\n",
    "        target_pts = csr_matrix(target_pts.values)\n",
    "    else:\n",
    "        target_pts = target_pts.values\n",
    "\n",
    "    for node in tqdm(origin_BM.nodes):\n",
    "        X = target_pts[origin_BM.nodes[node]['points covered'], :]\n",
    "\n",
    "        db = DBSCAN(eps=EPS, min_samples=MIN_SAMPLES).fit(X)\n",
    "        # create a set of unique labels\n",
    "        labels = set(db.labels_) - {-1} # outliers are not clusters\n",
    "\n",
    "        print('\\n **********')\n",
    "        print('node {} contains {} points'.format(node, X.shape[0]))\n",
    "        print('it has been divided in {} clusters'.format(len(labels)))\n",
    "\n",
    "        # for each cluster\n",
    "        # add a new vertex to the new graph\n",
    "        for cluster in labels:\n",
    "            # print the number of points in the cluster\n",
    "            print('\\t cluster {} has size {}'.format(cluster, (db.labels_ == cluster).sum()))\n",
    "            # retrives the indeces of the points covered by the cluster\n",
    "            points_covered_by_cluster = np.array(origin_BM.nodes[node]['points covered'])[np.where(db.labels_\n",
    "                                                                                     == cluster)].tolist()\n",
    "            # creates a node\n",
    "            new_graph.add_node(str(node)+'_'+str(cluster),\n",
    "                               points_covered=points_covered_by_cluster)\n",
    "\n",
    "        for neigh in [v for v in nx.neighbors(origin_BM, node) if v > node]:\n",
    "            neigh_X = target_pts[origin_BM.nodes[neigh]['points covered'], :]\n",
    "\n",
    "            neigh_db = DBSCAN(eps=EPS, min_samples=MIN_SAMPLES).fit(neigh_X)\n",
    "            neigh_labels = set(neigh_db.labels_) - {-1} # outliers are not clusters\n",
    "\n",
    "            # add edges between clusters that belongs to neigh in the original graph\n",
    "            # if they share at least one element\n",
    "            for cluster in labels:\n",
    "                for neigh_cluster in neigh_labels:\n",
    "                    points_covered_by_cluster = np.array(origin_BM.nodes[node]['points covered'])[np.where(db.labels_\n",
    "                                                                                             == cluster)].tolist()\n",
    "                    points_covered_by_neigh=np.array(origin_BM.nodes[neigh]['points covered'])[np.where(neigh_db.labels_\n",
    "                                                                                          == neigh_cluster)].tolist()\n",
    "                    if len( set(points_covered_by_cluster)&set(points_covered_by_neigh) ) != 0:\n",
    "                        new_graph.add_edge(str(node)+'_'+str(cluster), str(neigh)+'_'+str(neigh_cluster) )\n",
    "\n",
    "\n",
    "    return new_graph"
   ]
  },
  {
   "cell_type": "code",
   "execution_count": null,
   "metadata": {},
   "outputs": [],
   "source": [
    "# we will save the mapper_on_BM to disk as pickle files \n",
    "# this way we can plot them in a second moment"
   ]
  },
  {
   "cell_type": "code",
   "execution_count": 13,
   "metadata": {},
   "outputs": [],
   "source": [
    "# Read the mapper_on_BM graph from pickle\n",
    "\n",
    "def read_graph_from_pickle(GRAPH_PATH,\n",
    "                           values_df,\n",
    "                           my_palette):\n",
    "    # read graph \n",
    "    G = nx.read_gpickle(GRAPH_PATH)\n",
    "    \n",
    "    MIN_SCALE = 7\n",
    "    MAX_SCALE = 20\n",
    "\n",
    "    MAX_NODE_SIZE = 0\n",
    "    for node in G.nodes:\n",
    "        if len(G.nodes[node]['points_covered']) > MAX_NODE_SIZE:\n",
    "            MAX_NODE_SIZE = len(G.nodes[node]['points_covered'])\n",
    "\n",
    "    for node in G.nodes:\n",
    "        G.nodes[node]['size'] = len(G.nodes[node]['points_covered'])\n",
    "        # rescale the size for display\n",
    "        G.nodes[node]['size rescaled'] = MAX_SCALE*G.nodes[node]['size']/MAX_NODE_SIZE + MIN_SCALE\n",
    "\n",
    "        G.nodes[node]['color'] = my_palette(0)\n",
    "\n",
    "        for name, avg in values_df.loc[G.nodes[node]['points_covered']].mean().iteritems():\n",
    "            G.nodes[node][name] = avg\n",
    "\n",
    "    return G"
   ]
  },
  {
   "cell_type": "markdown",
   "metadata": {},
   "source": [
    "# EXAMPLE 1\n",
    "## handwritten digits to their PCA rapresentation"
   ]
  },
  {
   "cell_type": "code",
   "execution_count": 14,
   "metadata": {},
   "outputs": [
    {
     "name": "stdout",
     "output_type": "stream",
     "text": [
      "loading edgelist\n",
      "loading points covered\n"
     ]
    },
    {
     "data": {
      "application/vnd.jupyter.widget-view+json": {
       "model_id": "245285d9b3494e4a90fa7ca014781943",
       "version_major": 2,
       "version_minor": 0
      },
      "text/plain": [
       "HBox(children=(FloatProgress(value=1.0, bar_style='info', max=1.0), HTML(value='')))"
      ]
     },
     "metadata": {},
     "output_type": "display_data"
    },
    {
     "name": "stdout",
     "output_type": "stream",
     "text": [
      "\n",
      "computing coloring\n"
     ]
    },
    {
     "data": {
      "application/vnd.jupyter.widget-view+json": {
       "model_id": "43263e8ddda8430bba5d7ae9c9df58db",
       "version_major": 2,
       "version_minor": 0
      },
      "text/plain": [
       "HBox(children=(FloatProgress(value=0.0, max=8.0), HTML(value='')))"
      ]
     },
     "metadata": {},
     "output_type": "display_data"
    },
    {
     "name": "stdout",
     "output_type": "stream",
     "text": [
      "\n",
      "data loaded\n",
      "computing mapper on BM\n",
      "mapping the BM into a pointcloud of shape (1797, 3)\n"
     ]
    },
    {
     "data": {
      "application/vnd.jupyter.widget-view+json": {
       "model_id": "dcb3d916adfd4330b3be5292abd756e5",
       "version_major": 2,
       "version_minor": 0
      },
      "text/plain": [
       "HBox(children=(FloatProgress(value=0.0, max=8.0), HTML(value='')))"
      ]
     },
     "metadata": {},
     "output_type": "display_data"
    },
    {
     "name": "stdout",
     "output_type": "stream",
     "text": [
      "\n",
      " **********\n",
      "node 1 contains 1180 points\n",
      "it has been divided in 1 clusters\n",
      "\t cluster 0 has size 1180\n",
      "\n",
      " **********\n",
      "node 2 contains 1031 points\n",
      "it has been divided in 1 clusters\n",
      "\t cluster 0 has size 1031\n",
      "\n",
      " **********\n",
      "node 3 contains 570 points\n",
      "it has been divided in 1 clusters\n",
      "\t cluster 0 has size 570\n",
      "\n",
      " **********\n",
      "node 4 contains 813 points\n",
      "it has been divided in 1 clusters\n",
      "\t cluster 0 has size 813\n",
      "\n",
      " **********\n",
      "node 5 contains 304 points\n",
      "it has been divided in 1 clusters\n",
      "\t cluster 0 has size 304\n",
      "\n",
      " **********\n",
      "node 6 contains 615 points\n",
      "it has been divided in 1 clusters\n",
      "\t cluster 0 has size 615\n",
      "\n",
      " **********\n",
      "node 7 contains 382 points\n",
      "it has been divided in 1 clusters\n",
      "\t cluster 0 has size 382\n",
      "\n",
      " **********\n",
      "node 8 contains 675 points\n",
      "it has been divided in 1 clusters\n",
      "\t cluster 0 has size 675\n",
      "\n"
     ]
    }
   ],
   "source": [
    "original_BM_EPSILON = 50\n",
    "DBSCAN_EPSILON = 15\n",
    "\n",
    "original_BM = read_graph_from_list('BM_graphs/digits_X/{}_edges'.format(original_BM_EPSILON),\n",
    "                                   'BM_graphs/digits_X/{}_points_covered_by_landmarks'.format(original_BM_EPSILON),\n",
    "                                   add_points_covered=True)\n",
    "\n",
    "digits_PCA = pd.read_csv('data/digits_X_PCA3.csv')\n",
    "print('data loaded')\n",
    "\n",
    "print('computing mapper on BM')\n",
    "print('mapping the BM into a pointcloud of shape {}'.format(digits_PCA.shape))\n",
    "\n",
    "pullback_to_PCA = mapper_on_BM(original_BM, digits_PCA,\n",
    "                               EPS=DBSCAN_EPSILON, MIN_SAMPLES=1)\n",
    "\n",
    "nx.write_gpickle(pullback_to_PCA, 'pullback_digits_to_PCA.gpickle')"
   ]
  },
  {
   "cell_type": "code",
   "execution_count": 15,
   "metadata": {},
   "outputs": [
    {
     "name": "stdout",
     "output_type": "stream",
     "text": [
      "loaded graph with 8 nodes and 28 edges\n",
      "color by variable label \n",
      "MIN_VALUE: 0.000, MAX_VALUE: 9.000\n"
     ]
    },
    {
     "ename": "ValueError",
     "evalue": "expected an instance of type Title, got pullback_digits_to_PCA of type str",
     "output_type": "error",
     "traceback": [
      "\u001b[1;31m---------------------------------------------------------------------------\u001b[0m",
      "\u001b[1;31mValueError\u001b[0m                                Traceback (most recent call last)",
      "\u001b[1;32m<ipython-input-15-423995c2b9fa>\u001b[0m in \u001b[0;36m<module>\u001b[1;34m\u001b[0m\n\u001b[0;32m     45\u001b[0m \u001b[1;33m\u001b[0m\u001b[0m\n\u001b[0;32m     46\u001b[0m \u001b[0mmy_fancy_gui\u001b[0m\u001b[1;33m.\u001b[0m\u001b[0mplot\u001b[0m\u001b[1;33m.\u001b[0m\u001b[0madd_layout\u001b[0m\u001b[1;33m(\u001b[0m\u001b[0mcolor_bar\u001b[0m\u001b[1;33m,\u001b[0m \u001b[1;34m'right'\u001b[0m\u001b[1;33m)\u001b[0m\u001b[1;33m\u001b[0m\u001b[1;33m\u001b[0m\u001b[0m\n\u001b[1;32m---> 47\u001b[1;33m \u001b[0mmy_fancy_gui\u001b[0m\u001b[1;33m.\u001b[0m\u001b[0mplot\u001b[0m\u001b[1;33m.\u001b[0m\u001b[0mtitle\u001b[0m\u001b[1;33m=\u001b[0m \u001b[1;34m'pullback_digits_to_PCA'\u001b[0m\u001b[1;33m\u001b[0m\u001b[1;33m\u001b[0m\u001b[0m\n\u001b[0m",
      "\u001b[1;32m~\\anaconda3\\envs\\ball\\lib\\site-packages\\bokeh\\core\\has_props.py\u001b[0m in \u001b[0;36m__setattr__\u001b[1;34m(self, name, value)\u001b[0m\n\u001b[0;32m    272\u001b[0m \u001b[1;33m\u001b[0m\u001b[0m\n\u001b[0;32m    273\u001b[0m         \u001b[1;32mif\u001b[0m \u001b[0mname\u001b[0m \u001b[1;32min\u001b[0m \u001b[0mprops\u001b[0m \u001b[1;32mor\u001b[0m \u001b[1;33m(\u001b[0m\u001b[0mdescriptor\u001b[0m \u001b[1;32mis\u001b[0m \u001b[1;32mnot\u001b[0m \u001b[1;32mNone\u001b[0m \u001b[1;32mand\u001b[0m \u001b[0mdescriptor\u001b[0m\u001b[1;33m.\u001b[0m\u001b[0mfset\u001b[0m \u001b[1;32mis\u001b[0m \u001b[1;32mnot\u001b[0m \u001b[1;32mNone\u001b[0m\u001b[1;33m)\u001b[0m\u001b[1;33m:\u001b[0m\u001b[1;33m\u001b[0m\u001b[1;33m\u001b[0m\u001b[0m\n\u001b[1;32m--> 274\u001b[1;33m             \u001b[0msuper\u001b[0m\u001b[1;33m(\u001b[0m\u001b[1;33m)\u001b[0m\u001b[1;33m.\u001b[0m\u001b[0m__setattr__\u001b[0m\u001b[1;33m(\u001b[0m\u001b[0mname\u001b[0m\u001b[1;33m,\u001b[0m \u001b[0mvalue\u001b[0m\u001b[1;33m)\u001b[0m\u001b[1;33m\u001b[0m\u001b[1;33m\u001b[0m\u001b[0m\n\u001b[0m\u001b[0;32m    275\u001b[0m         \u001b[1;32melse\u001b[0m\u001b[1;33m:\u001b[0m\u001b[1;33m\u001b[0m\u001b[1;33m\u001b[0m\u001b[0m\n\u001b[0;32m    276\u001b[0m             \u001b[0mmatches\u001b[0m\u001b[1;33m,\u001b[0m \u001b[0mtext\u001b[0m \u001b[1;33m=\u001b[0m \u001b[0mdifflib\u001b[0m\u001b[1;33m.\u001b[0m\u001b[0mget_close_matches\u001b[0m\u001b[1;33m(\u001b[0m\u001b[0mname\u001b[0m\u001b[1;33m.\u001b[0m\u001b[0mlower\u001b[0m\u001b[1;33m(\u001b[0m\u001b[1;33m)\u001b[0m\u001b[1;33m,\u001b[0m \u001b[0mprops\u001b[0m\u001b[1;33m)\u001b[0m\u001b[1;33m,\u001b[0m \u001b[1;34m\"similar\"\u001b[0m\u001b[1;33m\u001b[0m\u001b[1;33m\u001b[0m\u001b[0m\n",
      "\u001b[1;32m~\\anaconda3\\envs\\ball\\lib\\site-packages\\bokeh\\core\\property\\descriptors.py\u001b[0m in \u001b[0;36m__set__\u001b[1;34m(self, obj, value, setter)\u001b[0m\n\u001b[0;32m    537\u001b[0m             \u001b[1;32mraise\u001b[0m \u001b[0mRuntimeError\u001b[0m\u001b[1;33m(\u001b[0m\u001b[1;34m\"%s.%s is a readonly property\"\u001b[0m \u001b[1;33m%\u001b[0m \u001b[1;33m(\u001b[0m\u001b[0mobj\u001b[0m\u001b[1;33m.\u001b[0m\u001b[0m__class__\u001b[0m\u001b[1;33m.\u001b[0m\u001b[0m__name__\u001b[0m\u001b[1;33m,\u001b[0m \u001b[0mself\u001b[0m\u001b[1;33m.\u001b[0m\u001b[0mname\u001b[0m\u001b[1;33m)\u001b[0m\u001b[1;33m)\u001b[0m\u001b[1;33m\u001b[0m\u001b[1;33m\u001b[0m\u001b[0m\n\u001b[0;32m    538\u001b[0m \u001b[1;33m\u001b[0m\u001b[0m\n\u001b[1;32m--> 539\u001b[1;33m         \u001b[0mself\u001b[0m\u001b[1;33m.\u001b[0m\u001b[0m_internal_set\u001b[0m\u001b[1;33m(\u001b[0m\u001b[0mobj\u001b[0m\u001b[1;33m,\u001b[0m \u001b[0mvalue\u001b[0m\u001b[1;33m,\u001b[0m \u001b[0msetter\u001b[0m\u001b[1;33m=\u001b[0m\u001b[0msetter\u001b[0m\u001b[1;33m)\u001b[0m\u001b[1;33m\u001b[0m\u001b[1;33m\u001b[0m\u001b[0m\n\u001b[0m\u001b[0;32m    540\u001b[0m \u001b[1;33m\u001b[0m\u001b[0m\n\u001b[0;32m    541\u001b[0m     \u001b[1;32mdef\u001b[0m \u001b[0m__delete__\u001b[0m\u001b[1;33m(\u001b[0m\u001b[0mself\u001b[0m\u001b[1;33m,\u001b[0m \u001b[0mobj\u001b[0m\u001b[1;33m)\u001b[0m\u001b[1;33m:\u001b[0m\u001b[1;33m\u001b[0m\u001b[1;33m\u001b[0m\u001b[0m\n",
      "\u001b[1;32m~\\anaconda3\\envs\\ball\\lib\\site-packages\\bokeh\\core\\property\\descriptors.py\u001b[0m in \u001b[0;36m_internal_set\u001b[1;34m(self, obj, value, hint, setter)\u001b[0m\n\u001b[0;32m    758\u001b[0m \u001b[1;33m\u001b[0m\u001b[0m\n\u001b[0;32m    759\u001b[0m         '''\n\u001b[1;32m--> 760\u001b[1;33m         \u001b[0mvalue\u001b[0m \u001b[1;33m=\u001b[0m \u001b[0mself\u001b[0m\u001b[1;33m.\u001b[0m\u001b[0mproperty\u001b[0m\u001b[1;33m.\u001b[0m\u001b[0mprepare_value\u001b[0m\u001b[1;33m(\u001b[0m\u001b[0mobj\u001b[0m\u001b[1;33m,\u001b[0m \u001b[0mself\u001b[0m\u001b[1;33m.\u001b[0m\u001b[0mname\u001b[0m\u001b[1;33m,\u001b[0m \u001b[0mvalue\u001b[0m\u001b[1;33m)\u001b[0m\u001b[1;33m\u001b[0m\u001b[1;33m\u001b[0m\u001b[0m\n\u001b[0m\u001b[0;32m    761\u001b[0m \u001b[1;33m\u001b[0m\u001b[0m\n\u001b[0;32m    762\u001b[0m         \u001b[0mold\u001b[0m \u001b[1;33m=\u001b[0m \u001b[0mself\u001b[0m\u001b[1;33m.\u001b[0m\u001b[0m__get__\u001b[0m\u001b[1;33m(\u001b[0m\u001b[0mobj\u001b[0m\u001b[1;33m,\u001b[0m \u001b[0mobj\u001b[0m\u001b[1;33m.\u001b[0m\u001b[0m__class__\u001b[0m\u001b[1;33m)\u001b[0m\u001b[1;33m\u001b[0m\u001b[1;33m\u001b[0m\u001b[0m\n",
      "\u001b[1;32m~\\anaconda3\\envs\\ball\\lib\\site-packages\\bokeh\\core\\property\\bases.py\u001b[0m in \u001b[0;36mprepare_value\u001b[1;34m(self, obj_or_cls, name, value)\u001b[0m\n\u001b[0;32m    329\u001b[0m                     \u001b[1;32mbreak\u001b[0m\u001b[1;33m\u001b[0m\u001b[1;33m\u001b[0m\u001b[0m\n\u001b[0;32m    330\u001b[0m             \u001b[1;32melse\u001b[0m\u001b[1;33m:\u001b[0m\u001b[1;33m\u001b[0m\u001b[1;33m\u001b[0m\u001b[0m\n\u001b[1;32m--> 331\u001b[1;33m                 \u001b[1;32mraise\u001b[0m \u001b[0me\u001b[0m\u001b[1;33m\u001b[0m\u001b[1;33m\u001b[0m\u001b[0m\n\u001b[0m\u001b[0;32m    332\u001b[0m         \u001b[1;32melse\u001b[0m\u001b[1;33m:\u001b[0m\u001b[1;33m\u001b[0m\u001b[1;33m\u001b[0m\u001b[0m\n\u001b[0;32m    333\u001b[0m             \u001b[0mvalue\u001b[0m \u001b[1;33m=\u001b[0m \u001b[0mself\u001b[0m\u001b[1;33m.\u001b[0m\u001b[0mtransform\u001b[0m\u001b[1;33m(\u001b[0m\u001b[0mvalue\u001b[0m\u001b[1;33m)\u001b[0m\u001b[1;33m\u001b[0m\u001b[1;33m\u001b[0m\u001b[0m\n",
      "\u001b[1;32m~\\anaconda3\\envs\\ball\\lib\\site-packages\\bokeh\\core\\property\\bases.py\u001b[0m in \u001b[0;36mprepare_value\u001b[1;34m(self, obj_or_cls, name, value)\u001b[0m\n\u001b[0;32m    322\u001b[0m         \u001b[1;32mtry\u001b[0m\u001b[1;33m:\u001b[0m\u001b[1;33m\u001b[0m\u001b[1;33m\u001b[0m\u001b[0m\n\u001b[0;32m    323\u001b[0m             \u001b[1;32mif\u001b[0m \u001b[0mvalidation_on\u001b[0m\u001b[1;33m(\u001b[0m\u001b[1;33m)\u001b[0m\u001b[1;33m:\u001b[0m\u001b[1;33m\u001b[0m\u001b[1;33m\u001b[0m\u001b[0m\n\u001b[1;32m--> 324\u001b[1;33m                 \u001b[0mself\u001b[0m\u001b[1;33m.\u001b[0m\u001b[0mvalidate\u001b[0m\u001b[1;33m(\u001b[0m\u001b[0mvalue\u001b[0m\u001b[1;33m)\u001b[0m\u001b[1;33m\u001b[0m\u001b[1;33m\u001b[0m\u001b[0m\n\u001b[0m\u001b[0;32m    325\u001b[0m         \u001b[1;32mexcept\u001b[0m \u001b[0mValueError\u001b[0m \u001b[1;32mas\u001b[0m \u001b[0me\u001b[0m\u001b[1;33m:\u001b[0m\u001b[1;33m\u001b[0m\u001b[1;33m\u001b[0m\u001b[0m\n\u001b[0;32m    326\u001b[0m             \u001b[1;32mfor\u001b[0m \u001b[0mtp\u001b[0m\u001b[1;33m,\u001b[0m \u001b[0mconverter\u001b[0m \u001b[1;32min\u001b[0m \u001b[0mself\u001b[0m\u001b[1;33m.\u001b[0m\u001b[0malternatives\u001b[0m\u001b[1;33m:\u001b[0m\u001b[1;33m\u001b[0m\u001b[1;33m\u001b[0m\u001b[0m\n",
      "\u001b[1;32m~\\anaconda3\\envs\\ball\\lib\\site-packages\\bokeh\\core\\property\\instance.py\u001b[0m in \u001b[0;36mvalidate\u001b[1;34m(self, value, detail)\u001b[0m\n\u001b[0;32m    110\u001b[0m             \u001b[1;32mif\u001b[0m \u001b[1;32mnot\u001b[0m \u001b[0misinstance\u001b[0m\u001b[1;33m(\u001b[0m\u001b[0mvalue\u001b[0m\u001b[1;33m,\u001b[0m \u001b[0mself\u001b[0m\u001b[1;33m.\u001b[0m\u001b[0minstance_type\u001b[0m\u001b[1;33m)\u001b[0m\u001b[1;33m:\u001b[0m\u001b[1;33m\u001b[0m\u001b[1;33m\u001b[0m\u001b[0m\n\u001b[0;32m    111\u001b[0m                 \u001b[0mmsg\u001b[0m \u001b[1;33m=\u001b[0m \u001b[1;34m\"\"\u001b[0m \u001b[1;32mif\u001b[0m \u001b[1;32mnot\u001b[0m \u001b[0mdetail\u001b[0m \u001b[1;32melse\u001b[0m \u001b[1;34m\"expected an instance of type %s, got %s of type %s\"\u001b[0m \u001b[1;33m%\u001b[0m \u001b[1;33m(\u001b[0m\u001b[0mself\u001b[0m\u001b[1;33m.\u001b[0m\u001b[0minstance_type\u001b[0m\u001b[1;33m.\u001b[0m\u001b[0m__name__\u001b[0m\u001b[1;33m,\u001b[0m \u001b[0mvalue\u001b[0m\u001b[1;33m,\u001b[0m \u001b[0mtype\u001b[0m\u001b[1;33m(\u001b[0m\u001b[0mvalue\u001b[0m\u001b[1;33m)\u001b[0m\u001b[1;33m.\u001b[0m\u001b[0m__name__\u001b[0m\u001b[1;33m)\u001b[0m\u001b[1;33m\u001b[0m\u001b[1;33m\u001b[0m\u001b[0m\n\u001b[1;32m--> 112\u001b[1;33m                 \u001b[1;32mraise\u001b[0m \u001b[0mValueError\u001b[0m\u001b[1;33m(\u001b[0m\u001b[0mmsg\u001b[0m\u001b[1;33m)\u001b[0m\u001b[1;33m\u001b[0m\u001b[1;33m\u001b[0m\u001b[0m\n\u001b[0m\u001b[0;32m    113\u001b[0m \u001b[1;33m\u001b[0m\u001b[0m\n\u001b[0;32m    114\u001b[0m     \u001b[1;32mdef\u001b[0m \u001b[0m_may_have_unstable_default\u001b[0m\u001b[1;33m(\u001b[0m\u001b[0mself\u001b[0m\u001b[1;33m)\u001b[0m\u001b[1;33m:\u001b[0m\u001b[1;33m\u001b[0m\u001b[1;33m\u001b[0m\u001b[0m\n",
      "\u001b[1;31mValueError\u001b[0m: expected an instance of type Title, got pullback_digits_to_PCA of type str"
     ]
    }
   ],
   "source": [
    "GRAPH1_PATH = 'pullback_digits_to_PCA.gpickle'\n",
    "\n",
    "# table with the coloring functions\n",
    "coloring_df = pd.read_csv('data/digits_y.csv')\n",
    "coloring_df.index = range(len(coloring_df))\n",
    "\n",
    "###########\n",
    "# GRAPH 1 #\n",
    "###########\n",
    "\n",
    "#Here we adopt standard colour palette\n",
    "my_palette = cm.get_cmap(name='jet')\n",
    "\n",
    "# read graph\n",
    "# ASSUME NODES ARE NUMBERED FROM 1 TO N\n",
    "G1 = read_graph_from_pickle(GRAPH1_PATH, coloring_df, my_palette)\n",
    "\n",
    "for node in G1.nodes:\n",
    "    G1.nodes[node]['points covered'] = G1.nodes[node]['points_covered']\n",
    "print('loaded graph with {} nodes and {} edges'.format(len(G1.nodes), len(G1.edges)))\n",
    "\n",
    "# create a GUI with input our BM graph, \n",
    "# a dataframe with coloring functions (one value per point in the pointcloud)\n",
    "# and a color palette\n",
    "# in this case we use the pointcloud as coloring function\n",
    "my_fancy_gui = graph_GUI(G1, my_palette, coloring_df[['label']])\n",
    "my_fancy_gui.color_by_variable('label', MIN_VALUE=0, MAX_VALUE=9)\n",
    "\n",
    "# add a discrete colorbar\n",
    "num_ticks = 10\n",
    "low = 0\n",
    "high = 9\n",
    "color_mapper = LinearColorMapper(palette=[to_hex(my_palette(color_id)) \n",
    "                                          for color_id in np.linspace(0, 1, num_ticks)], \n",
    "                                 low=low-0.5, high=high+0.5)\n",
    "\n",
    "ticks = [i for i in range(low, high+1, 1)]\n",
    "color_ticks = FixedTicker(ticks=ticks)\n",
    "\n",
    "color_bar = ColorBar(color_mapper=color_mapper, \n",
    "                     major_label_text_font_size='14pt',\n",
    "                     label_standoff=12,\n",
    "                     ticker=color_ticks,\n",
    "                    )\n",
    "\n",
    "my_fancy_gui.plot.add_layout(color_bar, 'right')\n",
    "my_fancy_gui.plot.title= 'pullback_digits_to_PCA'"
   ]
  },
  {
   "cell_type": "code",
   "execution_count": 16,
   "metadata": {},
   "outputs": [],
   "source": [
    "# creates an html file with the graph \n",
    "# and opens it in another tab\n",
    "show(my_fancy_gui.plot)"
   ]
  },
  {
   "cell_type": "code",
   "execution_count": null,
   "metadata": {},
   "outputs": [],
   "source": []
  },
  {
   "cell_type": "code",
   "execution_count": null,
   "metadata": {},
   "outputs": [],
   "source": []
  },
  {
   "cell_type": "markdown",
   "metadata": {},
   "source": [
    "# EXAMPLE 2\n",
    "## the opposite\n",
    "## handwritten digits in PCA rapresentation to the full dataset"
   ]
  },
  {
   "cell_type": "code",
   "execution_count": 18,
   "metadata": {},
   "outputs": [
    {
     "name": "stdout",
     "output_type": "stream",
     "text": [
      "loading edgelist\n",
      "loading points covered\n"
     ]
    },
    {
     "data": {
      "application/vnd.jupyter.widget-view+json": {
       "model_id": "088d061bc55f402691030e04b25bb86a",
       "version_major": 2,
       "version_minor": 0
      },
      "text/plain": [
       "HBox(children=(FloatProgress(value=1.0, bar_style='info', max=1.0), HTML(value='')))"
      ]
     },
     "metadata": {},
     "output_type": "display_data"
    },
    {
     "name": "stdout",
     "output_type": "stream",
     "text": [
      "\n",
      "computing coloring\n"
     ]
    },
    {
     "data": {
      "application/vnd.jupyter.widget-view+json": {
       "model_id": "e9bd44e71ce14dc7bd180d8f6c170dfb",
       "version_major": 2,
       "version_minor": 0
      },
      "text/plain": [
       "HBox(children=(FloatProgress(value=0.0, max=8.0), HTML(value='')))"
      ]
     },
     "metadata": {},
     "output_type": "display_data"
    },
    {
     "name": "stdout",
     "output_type": "stream",
     "text": [
      "\n",
      "data loaded\n",
      "computing mapper on BM\n",
      "mapping the BM into a pointcloud of shape (1797, 64)\n"
     ]
    },
    {
     "data": {
      "application/vnd.jupyter.widget-view+json": {
       "model_id": "4c668ee04b96426595e4d33654ac8aed",
       "version_major": 2,
       "version_minor": 0
      },
      "text/plain": [
       "HBox(children=(FloatProgress(value=0.0, max=8.0), HTML(value='')))"
      ]
     },
     "metadata": {},
     "output_type": "display_data"
    },
    {
     "name": "stdout",
     "output_type": "stream",
     "text": [
      "\n",
      " **********\n",
      "node 1 contains 1180 points\n",
      "it has been divided in 37 clusters\n",
      "\t cluster 0 has size 937\n",
      "\t cluster 1 has size 126\n",
      "\t cluster 2 has size 55\n",
      "\t cluster 3 has size 1\n",
      "\t cluster 4 has size 1\n",
      "\t cluster 5 has size 13\n",
      "\t cluster 6 has size 11\n",
      "\t cluster 7 has size 1\n",
      "\t cluster 8 has size 1\n",
      "\t cluster 9 has size 1\n",
      "\t cluster 10 has size 1\n",
      "\t cluster 11 has size 1\n",
      "\t cluster 12 has size 1\n",
      "\t cluster 13 has size 1\n",
      "\t cluster 14 has size 1\n",
      "\t cluster 15 has size 1\n",
      "\t cluster 16 has size 1\n",
      "\t cluster 17 has size 1\n",
      "\t cluster 18 has size 1\n",
      "\t cluster 19 has size 1\n",
      "\t cluster 20 has size 1\n",
      "\t cluster 21 has size 1\n",
      "\t cluster 22 has size 1\n",
      "\t cluster 23 has size 1\n",
      "\t cluster 24 has size 1\n",
      "\t cluster 25 has size 1\n",
      "\t cluster 26 has size 1\n",
      "\t cluster 27 has size 1\n",
      "\t cluster 28 has size 1\n",
      "\t cluster 29 has size 1\n",
      "\t cluster 30 has size 4\n",
      "\t cluster 31 has size 1\n",
      "\t cluster 32 has size 2\n",
      "\t cluster 33 has size 1\n",
      "\t cluster 34 has size 1\n",
      "\t cluster 35 has size 3\n",
      "\t cluster 36 has size 1\n",
      "\n",
      " **********\n",
      "node 2 contains 1031 points\n",
      "it has been divided in 29 clusters\n",
      "\t cluster 0 has size 990\n",
      "\t cluster 1 has size 3\n",
      "\t cluster 2 has size 1\n",
      "\t cluster 3 has size 2\n",
      "\t cluster 4 has size 6\n",
      "\t cluster 5 has size 1\n",
      "\t cluster 6 has size 4\n",
      "\t cluster 7 has size 1\n",
      "\t cluster 8 has size 1\n",
      "\t cluster 9 has size 1\n",
      "\t cluster 10 has size 1\n",
      "\t cluster 11 has size 1\n",
      "\t cluster 12 has size 1\n",
      "\t cluster 13 has size 3\n",
      "\t cluster 14 has size 1\n",
      "\t cluster 15 has size 1\n",
      "\t cluster 16 has size 1\n",
      "\t cluster 17 has size 1\n",
      "\t cluster 18 has size 1\n",
      "\t cluster 19 has size 1\n",
      "\t cluster 20 has size 1\n",
      "\t cluster 21 has size 1\n",
      "\t cluster 22 has size 1\n",
      "\t cluster 23 has size 1\n",
      "\t cluster 24 has size 1\n",
      "\t cluster 25 has size 1\n",
      "\t cluster 26 has size 1\n",
      "\t cluster 27 has size 1\n",
      "\t cluster 28 has size 1\n",
      "\n",
      " **********\n",
      "node 3 contains 570 points\n",
      "it has been divided in 34 clusters\n",
      "\t cluster 0 has size 502\n",
      "\t cluster 1 has size 4\n",
      "\t cluster 2 has size 1\n",
      "\t cluster 3 has size 2\n",
      "\t cluster 4 has size 14\n",
      "\t cluster 5 has size 10\n",
      "\t cluster 6 has size 1\n",
      "\t cluster 7 has size 1\n",
      "\t cluster 8 has size 1\n",
      "\t cluster 9 has size 1\n",
      "\t cluster 10 has size 8\n",
      "\t cluster 11 has size 1\n",
      "\t cluster 12 has size 1\n",
      "\t cluster 13 has size 1\n",
      "\t cluster 14 has size 1\n",
      "\t cluster 15 has size 1\n",
      "\t cluster 16 has size 1\n",
      "\t cluster 17 has size 2\n",
      "\t cluster 18 has size 1\n",
      "\t cluster 19 has size 1\n",
      "\t cluster 20 has size 1\n",
      "\t cluster 21 has size 1\n",
      "\t cluster 22 has size 1\n",
      "\t cluster 23 has size 1\n",
      "\t cluster 24 has size 1\n",
      "\t cluster 25 has size 1\n",
      "\t cluster 26 has size 1\n",
      "\t cluster 27 has size 1\n",
      "\t cluster 28 has size 1\n",
      "\t cluster 29 has size 2\n",
      "\t cluster 30 has size 1\n",
      "\t cluster 31 has size 1\n",
      "\t cluster 32 has size 1\n",
      "\t cluster 33 has size 1\n",
      "\n",
      " **********\n",
      "node 4 contains 813 points\n",
      "it has been divided in 25 clusters\n",
      "\t cluster 0 has size 589\n",
      "\t cluster 1 has size 171\n",
      "\t cluster 2 has size 1\n",
      "\t cluster 3 has size 2\n",
      "\t cluster 4 has size 1\n",
      "\t cluster 5 has size 1\n",
      "\t cluster 6 has size 27\n",
      "\t cluster 7 has size 1\n",
      "\t cluster 8 has size 1\n",
      "\t cluster 9 has size 1\n",
      "\t cluster 10 has size 1\n",
      "\t cluster 11 has size 1\n",
      "\t cluster 12 has size 1\n",
      "\t cluster 13 has size 1\n",
      "\t cluster 14 has size 1\n",
      "\t cluster 15 has size 1\n",
      "\t cluster 16 has size 1\n",
      "\t cluster 17 has size 3\n",
      "\t cluster 18 has size 1\n",
      "\t cluster 19 has size 1\n",
      "\t cluster 20 has size 1\n",
      "\t cluster 21 has size 1\n",
      "\t cluster 22 has size 2\n",
      "\t cluster 23 has size 1\n",
      "\t cluster 24 has size 1\n",
      "\n",
      " **********\n",
      "node 5 contains 304 points\n",
      "it has been divided in 23 clusters\n",
      "\t cluster 0 has size 264\n",
      "\t cluster 1 has size 3\n",
      "\t cluster 2 has size 2\n",
      "\t cluster 3 has size 1\n",
      "\t cluster 4 has size 6\n",
      "\t cluster 5 has size 1\n",
      "\t cluster 6 has size 1\n",
      "\t cluster 7 has size 1\n",
      "\t cluster 8 has size 4\n",
      "\t cluster 9 has size 1\n",
      "\t cluster 10 has size 7\n",
      "\t cluster 11 has size 1\n",
      "\t cluster 12 has size 1\n",
      "\t cluster 13 has size 1\n",
      "\t cluster 14 has size 1\n",
      "\t cluster 15 has size 1\n",
      "\t cluster 16 has size 1\n",
      "\t cluster 17 has size 1\n",
      "\t cluster 18 has size 2\n",
      "\t cluster 19 has size 1\n",
      "\t cluster 20 has size 1\n",
      "\t cluster 21 has size 1\n",
      "\t cluster 22 has size 1\n",
      "\n",
      " **********\n",
      "node 6 contains 615 points\n",
      "it has been divided in 20 clusters\n",
      "\t cluster 0 has size 17\n",
      "\t cluster 1 has size 491\n",
      "\t cluster 2 has size 90\n",
      "\t cluster 3 has size 1\n",
      "\t cluster 4 has size 1\n",
      "\t cluster 5 has size 1\n",
      "\t cluster 6 has size 1\n",
      "\t cluster 7 has size 1\n",
      "\t cluster 8 has size 1\n",
      "\t cluster 9 has size 1\n",
      "\t cluster 10 has size 1\n",
      "\t cluster 11 has size 1\n",
      "\t cluster 12 has size 1\n",
      "\t cluster 13 has size 1\n",
      "\t cluster 14 has size 1\n",
      "\t cluster 15 has size 1\n",
      "\t cluster 16 has size 1\n",
      "\t cluster 17 has size 1\n",
      "\t cluster 18 has size 1\n",
      "\t cluster 19 has size 1\n",
      "\n",
      " **********\n",
      "node 7 contains 382 points\n",
      "it has been divided in 15 clusters\n",
      "\t cluster 0 has size 210\n",
      "\t cluster 1 has size 75\n",
      "\t cluster 2 has size 67\n",
      "\t cluster 3 has size 14\n",
      "\t cluster 4 has size 2\n",
      "\t cluster 5 has size 1\n",
      "\t cluster 6 has size 1\n",
      "\t cluster 7 has size 1\n",
      "\t cluster 8 has size 4\n",
      "\t cluster 9 has size 1\n",
      "\t cluster 10 has size 1\n",
      "\t cluster 11 has size 2\n",
      "\t cluster 12 has size 1\n",
      "\t cluster 13 has size 1\n",
      "\t cluster 14 has size 1\n",
      "\n",
      " **********\n",
      "node 8 contains 675 points\n",
      "it has been divided in 42 clusters\n",
      "\t cluster 0 has size 544\n",
      "\t cluster 1 has size 1\n",
      "\t cluster 2 has size 1\n",
      "\t cluster 3 has size 1\n",
      "\t cluster 4 has size 1\n",
      "\t cluster 5 has size 1\n",
      "\t cluster 6 has size 5\n",
      "\t cluster 7 has size 32\n",
      "\t cluster 8 has size 47\n",
      "\t cluster 9 has size 1\n",
      "\t cluster 10 has size 3\n",
      "\t cluster 11 has size 1\n",
      "\t cluster 12 has size 1\n",
      "\t cluster 13 has size 2\n",
      "\t cluster 14 has size 3\n",
      "\t cluster 15 has size 1\n",
      "\t cluster 16 has size 1\n",
      "\t cluster 17 has size 1\n",
      "\t cluster 18 has size 1\n",
      "\t cluster 19 has size 1\n",
      "\t cluster 20 has size 2\n",
      "\t cluster 21 has size 2\n",
      "\t cluster 22 has size 1\n",
      "\t cluster 23 has size 1\n",
      "\t cluster 24 has size 2\n",
      "\t cluster 25 has size 1\n",
      "\t cluster 26 has size 2\n",
      "\t cluster 27 has size 1\n",
      "\t cluster 28 has size 1\n",
      "\t cluster 29 has size 1\n",
      "\t cluster 30 has size 1\n",
      "\t cluster 31 has size 1\n",
      "\t cluster 32 has size 1\n",
      "\t cluster 33 has size 1\n",
      "\t cluster 34 has size 1\n",
      "\t cluster 35 has size 1\n",
      "\t cluster 36 has size 1\n",
      "\t cluster 37 has size 1\n",
      "\t cluster 38 has size 1\n",
      "\t cluster 39 has size 1\n",
      "\t cluster 40 has size 1\n",
      "\t cluster 41 has size 1\n",
      "\n"
     ]
    }
   ],
   "source": [
    "original_BM_EPSILON = 20\n",
    "DBSCAN_EPSILON = 25\n",
    "\n",
    "original_BM = read_graph_from_list('BM_graphs/digits_X/{}_edges'.format(original_BM_EPSILON),\n",
    "                                   'BM_graphs/digits_X/{}_points_covered_by_landmarks'.format(original_BM_EPSILON),\n",
    "                                   add_points_covered=True)\n",
    "\n",
    "digits_PCA = pd.read_csv('data/digits_X.csv')\n",
    "\n",
    "print('data loaded')\n",
    "print('computing mapper on BM')\n",
    "print('mapping the BM into a pointcloud of shape {}'.format(digits_PCA.shape))\n",
    "pullback_to_PCA = mapper_on_BM(original_BM, digits_PCA,\n",
    "                               EPS=DBSCAN_EPSILON, MIN_SAMPLES=1)\n",
    "\n",
    "nx.write_gpickle(pullback_to_PCA, 'pullback_digits_PCA_to_full.gpickle')"
   ]
  },
  {
   "cell_type": "code",
   "execution_count": null,
   "metadata": {},
   "outputs": [],
   "source": []
  },
  {
   "cell_type": "code",
   "execution_count": 22,
   "metadata": {},
   "outputs": [
    {
     "name": "stdout",
     "output_type": "stream",
     "text": [
      "loaded graph with 225 nodes and 466 edges\n",
      "color by variable label \n",
      "MIN_VALUE: 0.000, MAX_VALUE: 9.000\n"
     ]
    }
   ],
   "source": [
    "GRAPH1_PATH = 'pullback_digits_PCA_to_full.gpickle'\n",
    "\n",
    "# table with the coloring functions\n",
    "coloring_df = pd.read_csv('data/digits_y.csv')\n",
    "coloring_df.index = range(len(coloring_df))\n",
    "\n",
    "###########\n",
    "# GRAPH 1 #\n",
    "###########\n",
    "\n",
    "#Here we adopt standard colour palette\n",
    "my_palette = cm.get_cmap(name='jet')\n",
    "\n",
    "# read graph\n",
    "# ASSUME NODES ARE NUMBERED FROM 1 TO N\n",
    "G1 = read_graph_from_pickle(GRAPH1_PATH, coloring_df, my_palette)\n",
    "\n",
    "for node in G1.nodes:\n",
    "    G1.nodes[node]['points covered'] = G1.nodes[node]['points_covered']\n",
    "print('loaded graph with {} nodes and {} edges'.format(len(G1.nodes), len(G1.edges)))\n",
    "\n",
    "# create a GUI with input our BM graph, \n",
    "# a dataframe with coloring functions (one value per point in the pointcloud)\n",
    "# and a color palette\n",
    "# in this case we use the pointcloud as coloring function\n",
    "my_fancy_gui = graph_GUI(G1, my_palette, coloring_df[['label']])\n",
    "my_fancy_gui.color_by_variable('label', MIN_VALUE=0, MAX_VALUE=9)\n",
    "\n",
    "# add a discrete colorbar\n",
    "num_ticks = 10\n",
    "low = 0\n",
    "high = 9\n",
    "color_mapper = LinearColorMapper(palette=[to_hex(my_palette(color_id)) \n",
    "                                          for color_id in np.linspace(0, 1, num_ticks)], \n",
    "                                 low=low-0.5, high=high+0.5)\n",
    "\n",
    "ticks = [i for i in range(low, high+1, 1)]\n",
    "color_ticks = FixedTicker(ticks=ticks)\n",
    "\n",
    "color_bar = ColorBar(color_mapper=color_mapper, \n",
    "                     major_label_text_font_size='14pt',\n",
    "                     label_standoff=12,\n",
    "                     ticker=color_ticks,\n",
    "                    )\n",
    "\n",
    "my_fancy_gui.plot.add_layout(color_bar, 'right')\n",
    "#my_fancy_gui.plot.title ='pullback_digits_PCA_to_full'"
   ]
  },
  {
   "cell_type": "code",
   "execution_count": 23,
   "metadata": {},
   "outputs": [],
   "source": [
    "# creates an html file with the graph \n",
    "# and opens it in another tab\n",
    "show(my_fancy_gui.plot)"
   ]
  },
  {
   "cell_type": "code",
   "execution_count": null,
   "metadata": {},
   "outputs": [],
   "source": []
  },
  {
   "cell_type": "code",
   "execution_count": null,
   "metadata": {},
   "outputs": [],
   "source": []
  }
 ],
 "metadata": {
  "kernelspec": {
   "display_name": "Python 3",
   "language": "python",
   "name": "python3"
  },
  "language_info": {
   "codemirror_mode": {
    "name": "ipython",
    "version": 3
   },
   "file_extension": ".py",
   "mimetype": "text/x-python",
   "name": "python",
   "nbconvert_exporter": "python",
   "pygments_lexer": "ipython3",
   "version": "3.7.6"
  }
 },
 "nbformat": 4,
 "nbformat_minor": 4
}
